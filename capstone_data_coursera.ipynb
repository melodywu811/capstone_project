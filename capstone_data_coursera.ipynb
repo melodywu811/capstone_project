{
 "cells": [
  {
   "cell_type": "code",
   "execution_count": 3,
   "id": "curious-syracuse",
   "metadata": {},
   "outputs": [],
   "source": [
    "# webscraping libraries\n",
    "import requests\n",
    "from bs4 import BeautifulSoup\n",
    "\n",
    "# other libraries \n",
    "import pandas as pd\n",
    "import numpy as np\n",
    "import seaborn as sns\n",
    "import matplotlib.pyplot as plt\n",
    "\n",
    "pd.options.display.max_colwidth = 350"
   ]
  },
  {
   "cell_type": "code",
   "execution_count": 133,
   "id": "relevant-eating",
   "metadata": {},
   "outputs": [],
   "source": [
    "# sample URL: https://www.coursera.org/learn/data-analysis-with-python/reviews?star=1\n",
    "\n",
    "def pages_of_reviews(course_name, rating):\n",
    "    url = f'https://www.coursera.org/learn/{course_name}/reviews?star={rating}'\n",
    "    res = requests.get(url) \n",
    "    soup = BeautifulSoup(res.content)\n",
    "    last_page = int(soup.find('ul', {'class':'_l6n5rs cui-buttonList'})\n",
    "                    .find_all('li', {'style':'display:inline-block'})[-2].text)\n",
    "    return last_page"
   ]
  },
  {
   "cell_type": "code",
   "execution_count": 134,
   "id": "parliamentary-friendship",
   "metadata": {},
   "outputs": [],
   "source": [
    "# sample URL: https://www.coursera.org/learn/data-analysis-with-python/reviews?star=1&page=2\n",
    "\n",
    "def scrape_reviews_by_rating_page(course_name, rating, review_page):\n",
    "    url = f'https://www.coursera.org/learn/{course_name}/reviews?star={rating}&page={review_page}'\n",
    "    res = requests.get(url) \n",
    "    soup = BeautifulSoup(res.content)\n",
    "    list_of_reviews = [review.text for review in soup.find_all('div', {'class':'reviewText'})]\n",
    "    list_of_dates = [review.text for review in soup.find_all('div', {'class':'dateOfReview p-x-1s m-b-0 text-secondary font-xs'})]\n",
    "    dict_reviews = {\n",
    "        'review': list_of_reviews,\n",
    "        'date_of_review': list_of_dates,\n",
    "        'rating': rating,\n",
    "        'course_name': course_name}\n",
    "\n",
    "    df = pd.DataFrame(dict_reviews)\n",
    "    return df "
   ]
  },
  {
   "cell_type": "code",
   "execution_count": 144,
   "id": "altered-creator",
   "metadata": {},
   "outputs": [],
   "source": [
    "# sample URL: https://www.coursera.org/learn/data-analysis-with-python\n",
    "\n",
    "def scrape_reviews(course_name):\n",
    "    df_list = []\n",
    "    for rating in range(1,6):\n",
    "        pages = pages_of_reviews(course_name, rating)\n",
    "        for review_page in range(1, pages+1):\n",
    "            df = scrape_reviews_by_rating_page(course_name, rating, review_page)\n",
    "            df_list.append(df)\n",
    "    return pd.concat(df_list, ignore_index=True)"
   ]
  },
  {
   "cell_type": "code",
   "execution_count": 148,
   "id": "forced-pasta",
   "metadata": {},
   "outputs": [],
   "source": [
    "# testing = scrape_reviews('python-for-data-visualization')\n",
    "# testing[testing['rating']==4]"
   ]
  },
  {
   "cell_type": "code",
   "execution_count": null,
   "id": "controlling-convention",
   "metadata": {},
   "outputs": [],
   "source": [
    "# https://www.coursera.org/learn/python-for-applied-data-science-ai/reviews"
   ]
  }
 ],
 "metadata": {
  "kernelspec": {
   "display_name": "Python 3",
   "language": "python",
   "name": "python3"
  },
  "language_info": {
   "codemirror_mode": {
    "name": "ipython",
    "version": 3
   },
   "file_extension": ".py",
   "mimetype": "text/x-python",
   "name": "python",
   "nbconvert_exporter": "python",
   "pygments_lexer": "ipython3",
   "version": "3.8.5"
  }
 },
 "nbformat": 4,
 "nbformat_minor": 5
}

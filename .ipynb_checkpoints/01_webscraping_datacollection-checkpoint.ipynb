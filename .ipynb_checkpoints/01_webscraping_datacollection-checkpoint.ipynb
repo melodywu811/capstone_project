{
 "cells": [
  {
   "cell_type": "code",
   "execution_count": 1,
   "id": "standard-director",
   "metadata": {},
   "outputs": [],
   "source": [
    "# webscraping libraries\n",
    "import requests\n",
    "from bs4 import BeautifulSoup\n",
    "\n",
    "# other libraries \n",
    "import pandas as pd\n",
    "import numpy as np\n",
    "import seaborn as sns\n",
    "import matplotlib.pyplot as plt\n",
    "\n",
    "pd.options.display.max_colwidth = 350"
   ]
  },
  {
   "cell_type": "markdown",
   "id": "sixth-passport",
   "metadata": {},
   "source": [
    "### Scrape Courses by subject and difficulty level\n",
    "- Data Science (`data-science`)\n",
    "- Business (`business`)\n",
    "- Computer Science (`computer-science`)\n",
    "- Physical Science and Engineering (`physical-science-and-engineering`)\n",
    "- Social Science (`social-sciences`)"
   ]
  },
  {
   "cell_type": "code",
   "execution_count": 2,
   "id": "refined-external",
   "metadata": {},
   "outputs": [],
   "source": [
    "# define a function scrape the first 16 most popular courses in English for a given subject, difficulty level\n",
    "\n",
    "'''\n",
    "https://www.coursera.org/browse/physical-science-and-engineering?facets=difficultyLevelTag%3ABeginner%2Clanguages%3AEnglish%2CentityTypeTag%3ACourses%2CcategoryMultiTag%3A{subject}&'+'sortField=mostPopularByEnrollmentsNumericTag\n",
    "'''\n",
    "\n",
    "\n",
    "def cat_pop_16(subject, level):\n",
    "    url = (f'https://www.coursera.org/browse/{subject}?facets=difficultyLevelTag%3A{level}'+\n",
    "       f'%2Clanguages%3AEnglish%2CentityTypeTag%3ACourses%2CcategoryMultiTag%3A{subject}&'+\n",
    "       'sortField=mostPopularByEnrollmentsNumericTag')\n",
    "    res = requests.get(url)\n",
    "    soup = BeautifulSoup(res.content)\n",
    "    href_list = [each.find('a').attrs['href'] for each in soup.find_all('div', {'class': 'offering-wrapper'})]\n",
    "    \n",
    "    href_dict = {\n",
    "        'course_href': href_list,\n",
    "        'subject': subject,\n",
    "        'level': level\n",
    "    }\n",
    "    \n",
    "    return pd.DataFrame(href_dict)"
   ]
  },
  {
   "cell_type": "code",
   "execution_count": 3,
   "id": "stunning-british",
   "metadata": {},
   "outputs": [],
   "source": [
    "subjects = ['data-science', 'business', 'computer-science', 'physical-science-and-engineering', 'social-sciences']\n",
    "levels = ['Beginner', 'Intermediate', 'Advanced']\n",
    "\n",
    "list_herf_df = []\n",
    "\n",
    "for subject in subjects:\n",
    "    for level in levels:\n",
    "        list_herf_df.append(cat_pop_16(subject, level))"
   ]
  },
  {
   "cell_type": "code",
   "execution_count": 4,
   "id": "lined-commander",
   "metadata": {},
   "outputs": [],
   "source": [
    "href_df = pd.concat(list_herf_df, ignore_index=True)"
   ]
  },
  {
   "cell_type": "code",
   "execution_count": 6,
   "id": "furnished-editing",
   "metadata": {},
   "outputs": [
    {
     "data": {
      "text/plain": [
       "(215, 3)"
      ]
     },
     "execution_count": 6,
     "metadata": {},
     "output_type": "execute_result"
    }
   ],
   "source": [
    "href_df.shape"
   ]
  },
  {
   "cell_type": "code",
   "execution_count": 7,
   "id": "vocal-drama",
   "metadata": {},
   "outputs": [
    {
     "data": {
      "text/html": [
       "<div>\n",
       "<style scoped>\n",
       "    .dataframe tbody tr th:only-of-type {\n",
       "        vertical-align: middle;\n",
       "    }\n",
       "\n",
       "    .dataframe tbody tr th {\n",
       "        vertical-align: top;\n",
       "    }\n",
       "\n",
       "    .dataframe thead th {\n",
       "        text-align: right;\n",
       "    }\n",
       "</style>\n",
       "<table border=\"1\" class=\"dataframe\">\n",
       "  <thead>\n",
       "    <tr style=\"text-align: right;\">\n",
       "      <th></th>\n",
       "      <th>course_href</th>\n",
       "      <th>subject</th>\n",
       "      <th>level</th>\n",
       "    </tr>\n",
       "  </thead>\n",
       "  <tbody>\n",
       "    <tr>\n",
       "      <th>0</th>\n",
       "      <td>/learn/excel-essentials</td>\n",
       "      <td>data-science</td>\n",
       "      <td>Beginner</td>\n",
       "    </tr>\n",
       "    <tr>\n",
       "      <th>1</th>\n",
       "      <td>/learn/what-is-datascience</td>\n",
       "      <td>data-science</td>\n",
       "      <td>Beginner</td>\n",
       "    </tr>\n",
       "    <tr>\n",
       "      <th>2</th>\n",
       "      <td>/learn/machine-learning-projects</td>\n",
       "      <td>data-science</td>\n",
       "      <td>Beginner</td>\n",
       "    </tr>\n",
       "    <tr>\n",
       "      <th>3</th>\n",
       "      <td>/learn/sql-for-data-science</td>\n",
       "      <td>data-science</td>\n",
       "      <td>Beginner</td>\n",
       "    </tr>\n",
       "    <tr>\n",
       "      <th>4</th>\n",
       "      <td>/learn/python-for-applied-data-science-ai</td>\n",
       "      <td>data-science</td>\n",
       "      <td>Beginner</td>\n",
       "    </tr>\n",
       "  </tbody>\n",
       "</table>\n",
       "</div>"
      ],
      "text/plain": [
       "                                 course_href       subject     level\n",
       "0                    /learn/excel-essentials  data-science  Beginner\n",
       "1                 /learn/what-is-datascience  data-science  Beginner\n",
       "2           /learn/machine-learning-projects  data-science  Beginner\n",
       "3                /learn/sql-for-data-science  data-science  Beginner\n",
       "4  /learn/python-for-applied-data-science-ai  data-science  Beginner"
      ]
     },
     "execution_count": 7,
     "metadata": {},
     "output_type": "execute_result"
    }
   ],
   "source": [
    "href_df.head()"
   ]
  },
  {
   "cell_type": "markdown",
   "id": "extended-candy",
   "metadata": {},
   "source": [
    "### Scrape course Info"
   ]
  },
  {
   "cell_type": "code",
   "execution_count": 78,
   "id": "divine-membership",
   "metadata": {},
   "outputs": [],
   "source": [
    "# course_herf = '/learn/astro'\n",
    "# https://www.coursera.org/learn/astro\n",
    "\n",
    "def course_info(course_herf):\n",
    "    url = f'https://www.coursera.org{course_herf}'\n",
    "    res = requests.get(url) \n",
    "    soup = BeautifulSoup(res.content)\n",
    "\n",
    "    dict_course_info = {\n",
    "        'course_href': course_herf,\n",
    "        'course_name': soup.find('h1').text,\n",
    "        'partner_title': soup.find('h4').text,\n",
    "        'instructor': soup.find('div', {'class': '_1wpyc64q'}).find('span').text,\n",
    "        'stars': soup.find('div', {'class': 'rc-ReviewsOverview__totals__rating'}).text,\n",
    "        'num_reviews': soup.find('span', {'itemprop': 'reviewCount'}).text,\n",
    "        'description': soup.find('div', {'class': 'm-t-1 description'}).text,\n",
    "        'outcome1': soup.find_all('div', {'class': '_1k3yl1y'})[0].text,\n",
    "        'outcome2': soup.find_all('div', {'class': '_1k3yl1y'})[1].text,\n",
    "        'certificate': soup.find_all('div', {'class': '_16ni8zai m-b-0'})[0].text,\n",
    "        'method': soup.find_all('div', {'class': '_16ni8zai m-b-0'})[1].text,\n",
    "        'deadline': soup.find_all('div', {'class': '_16ni8zai m-b-0'})[2].text,\n",
    "        'language': soup.find_all('div', {'class': '_16ni8zai m-b-0'})[3].text,\n",
    "        'length': soup.find_all('div', {'class': '_1tu07i3a'})[-2].find('span').text}\n",
    "    return dict_course_info"
   ]
  },
  {
   "cell_type": "code",
   "execution_count": 79,
   "id": "present-armenia",
   "metadata": {},
   "outputs": [],
   "source": [
    "list_info = []\n",
    "\n",
    "for each in list(href_df['course_href']):\n",
    "    try:\n",
    "        list_info.append(course_info(each))\n",
    "    except:\n",
    "        pass\n",
    "\n",
    "course_info = pd.DataFrame(list_info)"
   ]
  },
  {
   "cell_type": "markdown",
   "id": "streaming-matthew",
   "metadata": {},
   "source": [
    "---\n",
    "### Scrape Reviews"
   ]
  },
  {
   "cell_type": "code",
   "execution_count": 81,
   "id": "minute-array",
   "metadata": {},
   "outputs": [],
   "source": [
    "# sample URL: https://www.coursera.org/learn/data-analysis-with-python/reviews?star=1\n",
    "\n",
    "def pages_of_reviews(course_name, rating):\n",
    "    url = f'https://www.coursera.org/learn/{course_name}/reviews?star={rating}'\n",
    "    res = requests.get(url) \n",
    "    soup = BeautifulSoup(res.content)\n",
    "    last_page = int(soup.find('ul', {'class':'_l6n5rs cui-buttonList'})\n",
    "                    .find_all('li', {'style':'display:inline-block'})[-2].text)\n",
    "    return last_page"
   ]
  },
  {
   "cell_type": "code",
   "execution_count": 82,
   "id": "quantitative-exploration",
   "metadata": {},
   "outputs": [],
   "source": [
    "# sample URL: https://www.coursera.org/learn/data-analysis-with-python/reviews?star=1&page=2\n",
    "\n",
    "def scrape_reviews_by_rating_page(course_name, rating, review_page):\n",
    "    url = f'https://www.coursera.org/learn/{course_name}/reviews?star={rating}&page={review_page}'\n",
    "    res = requests.get(url) \n",
    "    soup = BeautifulSoup(res.content)\n",
    "    list_of_reviews = [review.text for review in soup.find_all('div', {'class':'reviewText'})]\n",
    "    list_of_dates = [review.text for review in soup.find_all('div', {'class':'dateOfReview p-x-1s m-b-0 text-secondary font-xs'})]\n",
    "    dict_reviews = {\n",
    "        'review': list_of_reviews,\n",
    "        'date_of_review': list_of_dates,\n",
    "        'rating': rating,\n",
    "        'course_name': course_name}\n",
    "    df = pd.DataFrame(dict_reviews)\n",
    "    return df "
   ]
  },
  {
   "cell_type": "code",
   "execution_count": 83,
   "id": "dense-mercy",
   "metadata": {},
   "outputs": [],
   "source": [
    "# sample URL: https://www.coursera.org/learn/data-analysis-with-python\n",
    "\n",
    "def scrape_reviews(course_name):\n",
    "    df_list = []\n",
    "    for rating in range(1,6):\n",
    "        pages = pages_of_reviews(course_name, rating)\n",
    "        for review_page in range(1, pages+1):\n",
    "            df = scrape_reviews_by_rating_page(course_name, rating, review_page)\n",
    "            df_list.append(df)\n",
    "    return pd.concat(df_list, ignore_index=True)"
   ]
  },
  {
   "cell_type": "code",
   "execution_count": null,
   "id": "homeless-anger",
   "metadata": {},
   "outputs": [],
   "source": [
    "# testing = scrape_reviews('python-for-data-visualization')\n"
   ]
  },
  {
   "cell_type": "code",
   "execution_count": null,
   "id": "sweet-desert",
   "metadata": {},
   "outputs": [],
   "source": [
    "# https://www.coursera.org/learn/python-for-applied-data-science-ai/reviews"
   ]
  }
 ],
 "metadata": {
  "kernelspec": {
   "display_name": "Python 3",
   "language": "python",
   "name": "python3"
  },
  "language_info": {
   "codemirror_mode": {
    "name": "ipython",
    "version": 3
   },
   "file_extension": ".py",
   "mimetype": "text/x-python",
   "name": "python",
   "nbconvert_exporter": "python",
   "pygments_lexer": "ipython3",
   "version": "3.8.5"
  }
 },
 "nbformat": 4,
 "nbformat_minor": 5
}

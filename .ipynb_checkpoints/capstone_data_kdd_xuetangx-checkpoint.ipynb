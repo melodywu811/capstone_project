{
 "cells": [
  {
   "cell_type": "code",
   "execution_count": 1,
   "id": "inside-problem",
   "metadata": {},
   "outputs": [],
   "source": [
    "# other libraries \n",
    "import pandas as pd\n",
    "import numpy as np\n",
    "import seaborn as sns\n",
    "import matplotlib.pyplot as plt"
   ]
  },
  {
   "cell_type": "code",
   "execution_count": 12,
   "id": "reduced-small",
   "metadata": {},
   "outputs": [],
   "source": [
    "path = './data/kddcup15/train/enrollment_train.csv'\n",
    "enrollment = pd.read_csv(path)"
   ]
  },
  {
   "cell_type": "code",
   "execution_count": 13,
   "id": "happy-spice",
   "metadata": {},
   "outputs": [
    {
     "data": {
      "text/html": [
       "<div>\n",
       "<style scoped>\n",
       "    .dataframe tbody tr th:only-of-type {\n",
       "        vertical-align: middle;\n",
       "    }\n",
       "\n",
       "    .dataframe tbody tr th {\n",
       "        vertical-align: top;\n",
       "    }\n",
       "\n",
       "    .dataframe thead th {\n",
       "        text-align: right;\n",
       "    }\n",
       "</style>\n",
       "<table border=\"1\" class=\"dataframe\">\n",
       "  <thead>\n",
       "    <tr style=\"text-align: right;\">\n",
       "      <th></th>\n",
       "      <th>enrollment_id</th>\n",
       "      <th>username</th>\n",
       "      <th>course_id</th>\n",
       "    </tr>\n",
       "  </thead>\n",
       "  <tbody>\n",
       "    <tr>\n",
       "      <th>0</th>\n",
       "      <td>1</td>\n",
       "      <td>9Uee7oEuuMmgPx2IzPfFkWgkHZyPbWr0</td>\n",
       "      <td>DPnLzkJJqOOPRJfBxIHbQEERiYHu5ila</td>\n",
       "    </tr>\n",
       "    <tr>\n",
       "      <th>1</th>\n",
       "      <td>3</td>\n",
       "      <td>1qXC7Fjbwp66GPQc6pHLfEuO8WKozxG4</td>\n",
       "      <td>7GRhBDsirIGkRZBtSMEzNTyDr2JQm4xx</td>\n",
       "    </tr>\n",
       "    <tr>\n",
       "      <th>2</th>\n",
       "      <td>4</td>\n",
       "      <td>FIHlppZyoq8muPbdVxS44gfvceX9zvU7</td>\n",
       "      <td>DPnLzkJJqOOPRJfBxIHbQEERiYHu5ila</td>\n",
       "    </tr>\n",
       "    <tr>\n",
       "      <th>3</th>\n",
       "      <td>5</td>\n",
       "      <td>p1Mp7WkVfzUijX0peVQKSHbgd5pXyl4c</td>\n",
       "      <td>7GRhBDsirIGkRZBtSMEzNTyDr2JQm4xx</td>\n",
       "    </tr>\n",
       "    <tr>\n",
       "      <th>4</th>\n",
       "      <td>6</td>\n",
       "      <td>dpK33RH9yepUAnyoywRwBt1AJzxGlaja</td>\n",
       "      <td>AXUJZGmZ0xaYSWazu8RQ1G5c76ECT1Kd</td>\n",
       "    </tr>\n",
       "  </tbody>\n",
       "</table>\n",
       "</div>"
      ],
      "text/plain": [
       "   enrollment_id                          username  \\\n",
       "0              1  9Uee7oEuuMmgPx2IzPfFkWgkHZyPbWr0   \n",
       "1              3  1qXC7Fjbwp66GPQc6pHLfEuO8WKozxG4   \n",
       "2              4  FIHlppZyoq8muPbdVxS44gfvceX9zvU7   \n",
       "3              5  p1Mp7WkVfzUijX0peVQKSHbgd5pXyl4c   \n",
       "4              6  dpK33RH9yepUAnyoywRwBt1AJzxGlaja   \n",
       "\n",
       "                          course_id  \n",
       "0  DPnLzkJJqOOPRJfBxIHbQEERiYHu5ila  \n",
       "1  7GRhBDsirIGkRZBtSMEzNTyDr2JQm4xx  \n",
       "2  DPnLzkJJqOOPRJfBxIHbQEERiYHu5ila  \n",
       "3  7GRhBDsirIGkRZBtSMEzNTyDr2JQm4xx  \n",
       "4  AXUJZGmZ0xaYSWazu8RQ1G5c76ECT1Kd  "
      ]
     },
     "execution_count": 13,
     "metadata": {},
     "output_type": "execute_result"
    }
   ],
   "source": [
    "enrollment.head()"
   ]
  },
  {
   "cell_type": "code",
   "execution_count": 5,
   "id": "progressive-renewal",
   "metadata": {},
   "outputs": [
    {
     "data": {
      "text/plain": [
       "(120542, 3)"
      ]
     },
     "execution_count": 5,
     "metadata": {},
     "output_type": "execute_result"
    }
   ],
   "source": [
    "enrollment.shape"
   ]
  },
  {
   "cell_type": "code",
   "execution_count": 14,
   "id": "urban-freedom",
   "metadata": {},
   "outputs": [],
   "source": [
    "path = './data/kddcup15/train/log_train.csv'\n",
    "log_train = pd.read_csv(path)"
   ]
  },
  {
   "cell_type": "code",
   "execution_count": null,
   "id": "existing-audio",
   "metadata": {},
   "outputs": [],
   "source": []
  },
  {
   "cell_type": "code",
   "execution_count": 24,
   "id": "compact-leadership",
   "metadata": {},
   "outputs": [
    {
     "data": {
      "text/plain": [
       "67.67165801131556"
      ]
     },
     "execution_count": 24,
     "metadata": {},
     "output_type": "execute_result"
    }
   ],
   "source": [
    "log_train.shape[0]/enrollment.shape[0]"
   ]
  },
  {
   "cell_type": "code",
   "execution_count": 28,
   "id": "sapphire-cheese",
   "metadata": {},
   "outputs": [
    {
     "data": {
      "text/html": [
       "<div>\n",
       "<style scoped>\n",
       "    .dataframe tbody tr th:only-of-type {\n",
       "        vertical-align: middle;\n",
       "    }\n",
       "\n",
       "    .dataframe tbody tr th {\n",
       "        vertical-align: top;\n",
       "    }\n",
       "\n",
       "    .dataframe thead th {\n",
       "        text-align: right;\n",
       "    }\n",
       "</style>\n",
       "<table border=\"1\" class=\"dataframe\">\n",
       "  <thead>\n",
       "    <tr style=\"text-align: right;\">\n",
       "      <th></th>\n",
       "      <th>enrollment_id</th>\n",
       "      <th>time</th>\n",
       "      <th>source</th>\n",
       "      <th>event</th>\n",
       "      <th>object</th>\n",
       "    </tr>\n",
       "  </thead>\n",
       "  <tbody>\n",
       "    <tr>\n",
       "      <th>602</th>\n",
       "      <td>4</td>\n",
       "      <td>2014-06-15T01:44:10</td>\n",
       "      <td>server</td>\n",
       "      <td>navigate</td>\n",
       "      <td>Oj6eQgzrdqBMlaCtaq1IkY6zruSrb71b</td>\n",
       "    </tr>\n",
       "    <tr>\n",
       "      <th>603</th>\n",
       "      <td>4</td>\n",
       "      <td>2014-06-15T01:44:13</td>\n",
       "      <td>server</td>\n",
       "      <td>access</td>\n",
       "      <td>3T6XwoiMKgol57cm29Rjy8FXVFcIomxl</td>\n",
       "    </tr>\n",
       "    <tr>\n",
       "      <th>604</th>\n",
       "      <td>4</td>\n",
       "      <td>2014-06-15T01:44:13</td>\n",
       "      <td>server</td>\n",
       "      <td>access</td>\n",
       "      <td>qxvBNYTfiRkNcCvM0hcGwG6hvHdQwnd4</td>\n",
       "    </tr>\n",
       "    <tr>\n",
       "      <th>605</th>\n",
       "      <td>4</td>\n",
       "      <td>2014-06-15T01:44:35</td>\n",
       "      <td>server</td>\n",
       "      <td>access</td>\n",
       "      <td>LPxTHNUu4a88wyAL6vY8ebFrjaaySuKo</td>\n",
       "    </tr>\n",
       "    <tr>\n",
       "      <th>606</th>\n",
       "      <td>4</td>\n",
       "      <td>2014-06-15T02:05:21</td>\n",
       "      <td>server</td>\n",
       "      <td>access</td>\n",
       "      <td>ep57uq0N5Fxg1Irgy68ROj8HOuD4xbsi</td>\n",
       "    </tr>\n",
       "    <tr>\n",
       "      <th>...</th>\n",
       "      <td>...</td>\n",
       "      <td>...</td>\n",
       "      <td>...</td>\n",
       "      <td>...</td>\n",
       "      <td>...</td>\n",
       "    </tr>\n",
       "    <tr>\n",
       "      <th>696</th>\n",
       "      <td>4</td>\n",
       "      <td>2014-07-02T11:32:32</td>\n",
       "      <td>server</td>\n",
       "      <td>navigate</td>\n",
       "      <td>vPJ7ada7OqDfvYXMjnTQC3NExmLvWiUL</td>\n",
       "    </tr>\n",
       "    <tr>\n",
       "      <th>697</th>\n",
       "      <td>4</td>\n",
       "      <td>2014-07-02T11:32:33</td>\n",
       "      <td>browser</td>\n",
       "      <td>page_close</td>\n",
       "      <td>3T6XwoiMKgol57cm29Rjy8FXVFcIomxl</td>\n",
       "    </tr>\n",
       "    <tr>\n",
       "      <th>698</th>\n",
       "      <td>4</td>\n",
       "      <td>2014-07-02T11:32:39</td>\n",
       "      <td>server</td>\n",
       "      <td>access</td>\n",
       "      <td>3T6XwoiMKgol57cm29Rjy8FXVFcIomxl</td>\n",
       "    </tr>\n",
       "    <tr>\n",
       "      <th>699</th>\n",
       "      <td>4</td>\n",
       "      <td>2014-07-02T11:32:39</td>\n",
       "      <td>server</td>\n",
       "      <td>access</td>\n",
       "      <td>W2Za6xuXb0ETxjM50i4un55AGtcvHbBP</td>\n",
       "    </tr>\n",
       "    <tr>\n",
       "      <th>700</th>\n",
       "      <td>4</td>\n",
       "      <td>2014-07-02T11:32:47</td>\n",
       "      <td>browser</td>\n",
       "      <td>page_close</td>\n",
       "      <td>3T6XwoiMKgol57cm29Rjy8FXVFcIomxl</td>\n",
       "    </tr>\n",
       "  </tbody>\n",
       "</table>\n",
       "<p>99 rows × 5 columns</p>\n",
       "</div>"
      ],
      "text/plain": [
       "     enrollment_id                 time   source       event  \\\n",
       "602              4  2014-06-15T01:44:10   server    navigate   \n",
       "603              4  2014-06-15T01:44:13   server      access   \n",
       "604              4  2014-06-15T01:44:13   server      access   \n",
       "605              4  2014-06-15T01:44:35   server      access   \n",
       "606              4  2014-06-15T02:05:21   server      access   \n",
       "..             ...                  ...      ...         ...   \n",
       "696              4  2014-07-02T11:32:32   server    navigate   \n",
       "697              4  2014-07-02T11:32:33  browser  page_close   \n",
       "698              4  2014-07-02T11:32:39   server      access   \n",
       "699              4  2014-07-02T11:32:39   server      access   \n",
       "700              4  2014-07-02T11:32:47  browser  page_close   \n",
       "\n",
       "                               object  \n",
       "602  Oj6eQgzrdqBMlaCtaq1IkY6zruSrb71b  \n",
       "603  3T6XwoiMKgol57cm29Rjy8FXVFcIomxl  \n",
       "604  qxvBNYTfiRkNcCvM0hcGwG6hvHdQwnd4  \n",
       "605  LPxTHNUu4a88wyAL6vY8ebFrjaaySuKo  \n",
       "606  ep57uq0N5Fxg1Irgy68ROj8HOuD4xbsi  \n",
       "..                                ...  \n",
       "696  vPJ7ada7OqDfvYXMjnTQC3NExmLvWiUL  \n",
       "697  3T6XwoiMKgol57cm29Rjy8FXVFcIomxl  \n",
       "698  3T6XwoiMKgol57cm29Rjy8FXVFcIomxl  \n",
       "699  W2Za6xuXb0ETxjM50i4un55AGtcvHbBP  \n",
       "700  3T6XwoiMKgol57cm29Rjy8FXVFcIomxl  \n",
       "\n",
       "[99 rows x 5 columns]"
      ]
     },
     "execution_count": 28,
     "metadata": {},
     "output_type": "execute_result"
    }
   ],
   "source": [
    "log_train[log_train['enrollment_id']==4]"
   ]
  },
  {
   "cell_type": "code",
   "execution_count": 38,
   "id": "loved-singapore",
   "metadata": {},
   "outputs": [],
   "source": [
    "path = './data/kddcup15/train/truth_train.csv'\n",
    "truth_train = pd.read_csv(path, header=None)"
   ]
  },
  {
   "cell_type": "code",
   "execution_count": 40,
   "id": "desirable-dispatch",
   "metadata": {},
   "outputs": [
    {
     "data": {
      "text/html": [
       "<div>\n",
       "<style scoped>\n",
       "    .dataframe tbody tr th:only-of-type {\n",
       "        vertical-align: middle;\n",
       "    }\n",
       "\n",
       "    .dataframe tbody tr th {\n",
       "        vertical-align: top;\n",
       "    }\n",
       "\n",
       "    .dataframe thead th {\n",
       "        text-align: right;\n",
       "    }\n",
       "</style>\n",
       "<table border=\"1\" class=\"dataframe\">\n",
       "  <thead>\n",
       "    <tr style=\"text-align: right;\">\n",
       "      <th></th>\n",
       "      <th>0</th>\n",
       "      <th>1</th>\n",
       "    </tr>\n",
       "  </thead>\n",
       "  <tbody>\n",
       "    <tr>\n",
       "      <th>0</th>\n",
       "      <td>1</td>\n",
       "      <td>0</td>\n",
       "    </tr>\n",
       "    <tr>\n",
       "      <th>1</th>\n",
       "      <td>3</td>\n",
       "      <td>0</td>\n",
       "    </tr>\n",
       "    <tr>\n",
       "      <th>2</th>\n",
       "      <td>4</td>\n",
       "      <td>0</td>\n",
       "    </tr>\n",
       "    <tr>\n",
       "      <th>3</th>\n",
       "      <td>5</td>\n",
       "      <td>0</td>\n",
       "    </tr>\n",
       "    <tr>\n",
       "      <th>4</th>\n",
       "      <td>6</td>\n",
       "      <td>0</td>\n",
       "    </tr>\n",
       "  </tbody>\n",
       "</table>\n",
       "</div>"
      ],
      "text/plain": [
       "   0  1\n",
       "0  1  0\n",
       "1  3  0\n",
       "2  4  0\n",
       "3  5  0\n",
       "4  6  0"
      ]
     },
     "execution_count": 40,
     "metadata": {},
     "output_type": "execute_result"
    }
   ],
   "source": [
    "truth_train.head()"
   ]
  },
  {
   "cell_type": "code",
   "execution_count": null,
   "id": "egyptian-republican",
   "metadata": {},
   "outputs": [],
   "source": []
  }
 ],
 "metadata": {
  "kernelspec": {
   "display_name": "Python 3",
   "language": "python",
   "name": "python3"
  },
  "language_info": {
   "codemirror_mode": {
    "name": "ipython",
    "version": 3
   },
   "file_extension": ".py",
   "mimetype": "text/x-python",
   "name": "python",
   "nbconvert_exporter": "python",
   "pygments_lexer": "ipython3",
   "version": "3.8.5"
  }
 },
 "nbformat": 4,
 "nbformat_minor": 5
}

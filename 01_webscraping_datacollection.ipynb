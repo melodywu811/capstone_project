{
 "cells": [
  {
   "cell_type": "code",
   "execution_count": 1,
   "id": "dress-stability",
   "metadata": {},
   "outputs": [],
   "source": [
    "# webscraping libraries\n",
    "import requests\n",
    "from bs4 import BeautifulSoup\n",
    "\n",
    "# other libraries \n",
    "import pandas as pd\n",
    "import numpy as np\n",
    "import seaborn as sns\n",
    "import matplotlib.pyplot as plt\n",
    "\n",
    "pd.options.display.max_colwidth = 350"
   ]
  },
  {
   "cell_type": "markdown",
   "id": "excessive-sullivan",
   "metadata": {},
   "source": [
    "### Scrape Courses by subject and difficulty level\n",
    "- Data Science (`data-science`)\n",
    "- Business (`business`)\n",
    "- Computer Science (`computer-science`)\n",
    "- Physical Science and Engineering (`physical-science-and-engineering`)\n",
    "- Social Science (`social-sciences`)"
   ]
  },
  {
   "cell_type": "code",
   "execution_count": 3,
   "id": "wound-fever",
   "metadata": {},
   "outputs": [],
   "source": [
    "# define a function scrape the first 16 most popular courses in English for a given subject, difficulty level\n",
    "\n",
    "'''\n",
    "https://www.coursera.org/browse/physical-science-and-engineering?facets=difficultyLevelTag%3ABeginner%2Clanguages%3AEnglish%2CentityTypeTag%3ACourses%2CcategoryMultiTag%3A{subject}&'+'sortField=mostPopularByEnrollmentsNumericTag\n",
    "'''\n",
    "\n",
    "\n",
    "def cat_pop_16(subject='data-science', level='Beginner'):\n",
    "    url = (f'https://www.coursera.org/browse/{subject}?facets=difficultyLevelTag%3A{level}'+\n",
    "       f'%2Clanguages%3AEnglish%2CentityTypeTag%3ACourses%2CcategoryMultiTag%3A{subject}&'+\n",
    "       'sortField=mostPopularByEnrollmentsNumericTag')\n",
    "    res = requests.get(url)\n",
    "    soup = BeautifulSoup(res.content)\n",
    "    href_list = [each.find('a').attrs['href'] for each in soup.find_all('div', {'class': 'offering-wrapper'})]\n",
    "    \n",
    "    href_dict = {\n",
    "        'course_href': href_list,\n",
    "        'subject': subject,\n",
    "        'level': level\n",
    "    }\n",
    "    \n",
    "    return pd.DataFrame(href_dict)"
   ]
  },
  {
   "cell_type": "code",
   "execution_count": 4,
   "id": "western-usage",
   "metadata": {},
   "outputs": [],
   "source": [
    "subjects = ['data-science', 'business', 'computer-science', 'physical-science-and-engineering', 'social-sciences']\n",
    "levels = ['Beginner', 'Intermediate', 'Advanced']\n",
    "\n",
    "list_herf_df = []\n",
    "\n",
    "for subject in subjects:\n",
    "    for level in levels:\n",
    "        list_herf_df.append(cat_pop_16(subject, level))"
   ]
  },
  {
   "cell_type": "code",
   "execution_count": 5,
   "id": "veterinary-corporation",
   "metadata": {},
   "outputs": [],
   "source": [
    "href_df = pd.concat(list_herf_df, ignore_index=True)"
   ]
  },
  {
   "cell_type": "code",
   "execution_count": 34,
   "id": "latest-illinois",
   "metadata": {},
   "outputs": [
    {
     "data": {
      "text/plain": [
       "(222, 3)"
      ]
     },
     "execution_count": 34,
     "metadata": {},
     "output_type": "execute_result"
    }
   ],
   "source": [
    "href_df.shape"
   ]
  },
  {
   "cell_type": "code",
   "execution_count": 7,
   "id": "brown-dealer",
   "metadata": {},
   "outputs": [
    {
     "data": {
      "text/html": [
       "<div>\n",
       "<style scoped>\n",
       "    .dataframe tbody tr th:only-of-type {\n",
       "        vertical-align: middle;\n",
       "    }\n",
       "\n",
       "    .dataframe tbody tr th {\n",
       "        vertical-align: top;\n",
       "    }\n",
       "\n",
       "    .dataframe thead th {\n",
       "        text-align: right;\n",
       "    }\n",
       "</style>\n",
       "<table border=\"1\" class=\"dataframe\">\n",
       "  <thead>\n",
       "    <tr style=\"text-align: right;\">\n",
       "      <th></th>\n",
       "      <th>course_href</th>\n",
       "      <th>subject</th>\n",
       "      <th>level</th>\n",
       "    </tr>\n",
       "  </thead>\n",
       "  <tbody>\n",
       "    <tr>\n",
       "      <th>0</th>\n",
       "      <td>/learn/excel-essentials</td>\n",
       "      <td>data-science</td>\n",
       "      <td>Beginner</td>\n",
       "    </tr>\n",
       "    <tr>\n",
       "      <th>1</th>\n",
       "      <td>/learn/what-is-datascience</td>\n",
       "      <td>data-science</td>\n",
       "      <td>Beginner</td>\n",
       "    </tr>\n",
       "    <tr>\n",
       "      <th>2</th>\n",
       "      <td>/learn/machine-learning-projects</td>\n",
       "      <td>data-science</td>\n",
       "      <td>Beginner</td>\n",
       "    </tr>\n",
       "    <tr>\n",
       "      <th>3</th>\n",
       "      <td>/learn/sql-for-data-science</td>\n",
       "      <td>data-science</td>\n",
       "      <td>Beginner</td>\n",
       "    </tr>\n",
       "    <tr>\n",
       "      <th>4</th>\n",
       "      <td>/learn/python-for-applied-data-science-ai</td>\n",
       "      <td>data-science</td>\n",
       "      <td>Beginner</td>\n",
       "    </tr>\n",
       "  </tbody>\n",
       "</table>\n",
       "</div>"
      ],
      "text/plain": [
       "                                 course_href       subject     level\n",
       "0                    /learn/excel-essentials  data-science  Beginner\n",
       "1                 /learn/what-is-datascience  data-science  Beginner\n",
       "2           /learn/machine-learning-projects  data-science  Beginner\n",
       "3                /learn/sql-for-data-science  data-science  Beginner\n",
       "4  /learn/python-for-applied-data-science-ai  data-science  Beginner"
      ]
     },
     "execution_count": 7,
     "metadata": {},
     "output_type": "execute_result"
    }
   ],
   "source": [
    "href_df.head()"
   ]
  },
  {
   "cell_type": "code",
   "execution_count": null,
   "id": "bored-tennessee",
   "metadata": {},
   "outputs": [],
   "source": []
  },
  {
   "cell_type": "markdown",
   "id": "affiliated-exemption",
   "metadata": {},
   "source": [
    "### Scrape course Info"
   ]
  },
  {
   "cell_type": "code",
   "execution_count": 12,
   "id": "informed-suggestion",
   "metadata": {},
   "outputs": [],
   "source": [
    "# url = f'https://www.coursera.org/learn/what-is-datascience'\n",
    "# res = requests.get(url) \n",
    "# soup = BeautifulSoup(res.content)"
   ]
  },
  {
   "cell_type": "code",
   "execution_count": 13,
   "id": "express-initial",
   "metadata": {},
   "outputs": [],
   "source": [
    "# set([each.text for each in soup.find_all('div', {'class': '_1k3yl1y'})])"
   ]
  },
  {
   "cell_type": "code",
   "execution_count": 18,
   "id": "varied-multimedia",
   "metadata": {},
   "outputs": [],
   "source": [
    "# course_herf = '/learn/astro'\n",
    "# https://www.coursera.org/learn/astro\n",
    "\n",
    "def course_info(course_herf='/learn/what-is-datascience'):\n",
    "    url = f'https://www.coursera.org{course_herf}'\n",
    "    res = requests.get(url) \n",
    "    soup = BeautifulSoup(res.content)\n",
    "\n",
    "    dict_course_info = {\n",
    "        'course_href': course_herf,\n",
    "        'course_name': soup.find('h1').text,\n",
    "        'partner_title': soup.find('h4').text,\n",
    "        'instructor': soup.find('div', {'class': '_1wpyc64q'}).find('span').text,\n",
    "        'stars': soup.find('div', {'class': 'rc-ReviewsOverview__totals__rating'}).text,\n",
    "        'num_reviews': soup.find('span', {'itemprop': 'reviewCount'}).text,\n",
    "        'description': soup.find('div', {'class': 'm-t-1 description'}).text,\n",
    "        'outcome': list(set([each.text for each in soup.find_all('div', {'class': '_1k3yl1y'})])),\n",
    "        'highlight': list(set([each.text for each in soup.find_all('div', {'class': '_16ni8zai m-b-0'})])),\n",
    "        'length': soup.find_all('div', {'class': '_1tu07i3a'})[-2].find('span').text}\n",
    "    return dict_course_info"
   ]
  },
  {
   "cell_type": "code",
   "execution_count": 19,
   "id": "roman-receiver",
   "metadata": {},
   "outputs": [],
   "source": [
    "list_info = []\n",
    "\n",
    "for each in list(href_df['course_href']):\n",
    "    try:\n",
    "        list_info.append(course_info(each))\n",
    "    except:\n",
    "        pass\n",
    "\n",
    "course_info = pd.DataFrame(list_info)"
   ]
  },
  {
   "cell_type": "code",
   "execution_count": 20,
   "id": "built-greene",
   "metadata": {},
   "outputs": [
    {
     "data": {
      "text/plain": [
       "(198, 10)"
      ]
     },
     "execution_count": 20,
     "metadata": {},
     "output_type": "execute_result"
    }
   ],
   "source": [
    "course_info.shape"
   ]
  },
  {
   "cell_type": "code",
   "execution_count": 22,
   "id": "removable-excerpt",
   "metadata": {},
   "outputs": [
    {
     "data": {
      "text/html": [
       "<div>\n",
       "<style scoped>\n",
       "    .dataframe tbody tr th:only-of-type {\n",
       "        vertical-align: middle;\n",
       "    }\n",
       "\n",
       "    .dataframe tbody tr th {\n",
       "        vertical-align: top;\n",
       "    }\n",
       "\n",
       "    .dataframe thead th {\n",
       "        text-align: right;\n",
       "    }\n",
       "</style>\n",
       "<table border=\"1\" class=\"dataframe\">\n",
       "  <thead>\n",
       "    <tr style=\"text-align: right;\">\n",
       "      <th></th>\n",
       "      <th>course_href</th>\n",
       "      <th>course_name</th>\n",
       "      <th>partner_title</th>\n",
       "      <th>instructor</th>\n",
       "      <th>stars</th>\n",
       "      <th>num_reviews</th>\n",
       "      <th>description</th>\n",
       "      <th>outcome</th>\n",
       "      <th>highlight</th>\n",
       "      <th>length</th>\n",
       "    </tr>\n",
       "  </thead>\n",
       "  <tbody>\n",
       "    <tr>\n",
       "      <th>0</th>\n",
       "      <td>/learn/excel-essentials</td>\n",
       "      <td>Excel Skills for Business: Essentials</td>\n",
       "      <td>Macquarie University</td>\n",
       "      <td>Nicky Bull +2 more instructors</td>\n",
       "      <td>4.9</td>\n",
       "      <td>9440</td>\n",
       "      <td>In this first course of the specialization Excel Skills for Business, you will learn the essentials of Microsoft Excel. Within six weeks, you will be able to expertly navigate the Excel user interface, perform basic calculations with formulas and functions, professionally format spreadsheets, and create visualizations of data through charts and...</td>\n",
       "      <td>[22%started a new career after completing these courses, 22%got a tangible career benefit from this course, 11%got a pay increase or promotion]</td>\n",
       "      <td>[Course 1 of 4 in the, Beginner Level, Flexible deadlines, 100% online, English, Shareable Certificate]</td>\n",
       "      <td>Approx. 26 hours to complete</td>\n",
       "    </tr>\n",
       "  </tbody>\n",
       "</table>\n",
       "</div>"
      ],
      "text/plain": [
       "               course_href                            course_name  \\\n",
       "0  /learn/excel-essentials  Excel Skills for Business: Essentials   \n",
       "\n",
       "          partner_title                      instructor stars num_reviews  \\\n",
       "0  Macquarie University  Nicky Bull +2 more instructors   4.9        9440   \n",
       "\n",
       "                                                                                                                                                                                                                                                                                                                                                     description  \\\n",
       "0  In this first course of the specialization Excel Skills for Business, you will learn the essentials of Microsoft Excel. Within six weeks, you will be able to expertly navigate the Excel user interface, perform basic calculations with formulas and functions, professionally format spreadsheets, and create visualizations of data through charts and...   \n",
       "\n",
       "                                                                                                                                           outcome  \\\n",
       "0  [22%started a new career after completing these courses, 22%got a tangible career benefit from this course, 11%got a pay increase or promotion]   \n",
       "\n",
       "                                                                                                 highlight  \\\n",
       "0  [Course 1 of 4 in the, Beginner Level, Flexible deadlines, 100% online, English, Shareable Certificate]   \n",
       "\n",
       "                         length  \n",
       "0  Approx. 26 hours to complete  "
      ]
     },
     "execution_count": 22,
     "metadata": {},
     "output_type": "execute_result"
    }
   ],
   "source": [
    "course_info.head(1)"
   ]
  },
  {
   "cell_type": "code",
   "execution_count": 28,
   "id": "angry-parent",
   "metadata": {},
   "outputs": [
    {
     "data": {
      "text/plain": [
       "(198, 10)"
      ]
     },
     "execution_count": 28,
     "metadata": {},
     "output_type": "execute_result"
    }
   ],
   "source": [
    "course_info.shape"
   ]
  },
  {
   "cell_type": "code",
   "execution_count": 38,
   "id": "flexible-rally",
   "metadata": {},
   "outputs": [],
   "source": [
    "course_df = course_info.merge(href_df, left_on='course_href', right_on='course_href')"
   ]
  },
  {
   "cell_type": "code",
   "execution_count": 45,
   "id": "coordinate-frederick",
   "metadata": {},
   "outputs": [
    {
     "data": {
      "text/html": [
       "<div>\n",
       "<style scoped>\n",
       "    .dataframe tbody tr th:only-of-type {\n",
       "        vertical-align: middle;\n",
       "    }\n",
       "\n",
       "    .dataframe tbody tr th {\n",
       "        vertical-align: top;\n",
       "    }\n",
       "\n",
       "    .dataframe thead th {\n",
       "        text-align: right;\n",
       "    }\n",
       "</style>\n",
       "<table border=\"1\" class=\"dataframe\">\n",
       "  <thead>\n",
       "    <tr style=\"text-align: right;\">\n",
       "      <th></th>\n",
       "      <th>course_href</th>\n",
       "      <th>course_name</th>\n",
       "      <th>partner_title</th>\n",
       "      <th>instructor</th>\n",
       "      <th>stars</th>\n",
       "      <th>num_reviews</th>\n",
       "      <th>description</th>\n",
       "      <th>outcome</th>\n",
       "      <th>highlight</th>\n",
       "      <th>length</th>\n",
       "      <th>subject</th>\n",
       "      <th>level</th>\n",
       "    </tr>\n",
       "  </thead>\n",
       "  <tbody>\n",
       "    <tr>\n",
       "      <th>0</th>\n",
       "      <td>/learn/excel-essentials</td>\n",
       "      <td>Excel Skills for Business: Essentials</td>\n",
       "      <td>Macquarie University</td>\n",
       "      <td>Nicky Bull +2 more instructors</td>\n",
       "      <td>4.9</td>\n",
       "      <td>9440</td>\n",
       "      <td>In this first course of the specialization Excel Skills for Business, you will learn the essentials of Microsoft Excel. Within six weeks, you will be able to expertly navigate the Excel user interface, perform basic calculations with formulas and functions, professionally format spreadsheets, and create visualizations of data through charts and...</td>\n",
       "      <td>[22%started a new career after completing these courses, 22%got a tangible career benefit from this course, 11%got a pay increase or promotion]</td>\n",
       "      <td>[Course 1 of 4 in the, Beginner Level, Flexible deadlines, 100% online, English, Shareable Certificate]</td>\n",
       "      <td>Approx. 26 hours to complete</td>\n",
       "      <td>data-science</td>\n",
       "      <td>Beginner</td>\n",
       "    </tr>\n",
       "    <tr>\n",
       "      <th>1</th>\n",
       "      <td>/learn/excel-essentials</td>\n",
       "      <td>Excel Skills for Business: Essentials</td>\n",
       "      <td>Macquarie University</td>\n",
       "      <td>Nicky Bull +2 more instructors</td>\n",
       "      <td>4.9</td>\n",
       "      <td>9440</td>\n",
       "      <td>In this first course of the specialization Excel Skills for Business, you will learn the essentials of Microsoft Excel. Within six weeks, you will be able to expertly navigate the Excel user interface, perform basic calculations with formulas and functions, professionally format spreadsheets, and create visualizations of data through charts and...</td>\n",
       "      <td>[22%started a new career after completing these courses, 22%got a tangible career benefit from this course, 11%got a pay increase or promotion]</td>\n",
       "      <td>[Course 1 of 4 in the, Beginner Level, Flexible deadlines, 100% online, English, Shareable Certificate]</td>\n",
       "      <td>Approx. 26 hours to complete</td>\n",
       "      <td>business</td>\n",
       "      <td>Beginner</td>\n",
       "    </tr>\n",
       "    <tr>\n",
       "      <th>2</th>\n",
       "      <td>/learn/excel-essentials</td>\n",
       "      <td>Excel Skills for Business: Essentials</td>\n",
       "      <td>Macquarie University</td>\n",
       "      <td>Nicky Bull +2 more instructors</td>\n",
       "      <td>4.9</td>\n",
       "      <td>9440</td>\n",
       "      <td>In this first course of the specialization Excel Skills for Business, you will learn the essentials of Microsoft Excel. Within six weeks, you will be able to expertly navigate the Excel user interface, perform basic calculations with formulas and functions, professionally format spreadsheets, and create visualizations of data through charts and...</td>\n",
       "      <td>[22%started a new career after completing these courses, 22%got a tangible career benefit from this course, 11%got a pay increase or promotion]</td>\n",
       "      <td>[Course 1 of 4 in the, Beginner Level, Flexible deadlines, 100% online, English, Shareable Certificate]</td>\n",
       "      <td>Approx. 26 hours to complete</td>\n",
       "      <td>data-science</td>\n",
       "      <td>Beginner</td>\n",
       "    </tr>\n",
       "    <tr>\n",
       "      <th>3</th>\n",
       "      <td>/learn/excel-essentials</td>\n",
       "      <td>Excel Skills for Business: Essentials</td>\n",
       "      <td>Macquarie University</td>\n",
       "      <td>Nicky Bull +2 more instructors</td>\n",
       "      <td>4.9</td>\n",
       "      <td>9440</td>\n",
       "      <td>In this first course of the specialization Excel Skills for Business, you will learn the essentials of Microsoft Excel. Within six weeks, you will be able to expertly navigate the Excel user interface, perform basic calculations with formulas and functions, professionally format spreadsheets, and create visualizations of data through charts and...</td>\n",
       "      <td>[22%started a new career after completing these courses, 22%got a tangible career benefit from this course, 11%got a pay increase or promotion]</td>\n",
       "      <td>[Course 1 of 4 in the, Beginner Level, Flexible deadlines, 100% online, English, Shareable Certificate]</td>\n",
       "      <td>Approx. 26 hours to complete</td>\n",
       "      <td>business</td>\n",
       "      <td>Beginner</td>\n",
       "    </tr>\n",
       "    <tr>\n",
       "      <th>4</th>\n",
       "      <td>/learn/what-is-datascience</td>\n",
       "      <td>What is Data Science?</td>\n",
       "      <td>IBM</td>\n",
       "      <td>Rav Ahuja +1 more instructor</td>\n",
       "      <td>4.7</td>\n",
       "      <td>8354</td>\n",
       "      <td>The art of uncovering the insights and trends in data has been around since ancient times. The ancient Egyptians used census data to increase efficiency in tax collection and they accurately predicted the flooding of the Nile river every year. Since then, people working in data science have carved out a unique and distinct field for the work th...</td>\n",
       "      <td>[29%started a new career after completing these courses, 11%got a pay increase or promotion, 30%got a tangible career benefit from this course]</td>\n",
       "      <td>[English, 100% online, Flexible deadlines, Shareable Certificate]</td>\n",
       "      <td>Approx. 10 hours to complete</td>\n",
       "      <td>data-science</td>\n",
       "      <td>Beginner</td>\n",
       "    </tr>\n",
       "  </tbody>\n",
       "</table>\n",
       "</div>"
      ],
      "text/plain": [
       "                  course_href                            course_name  \\\n",
       "0     /learn/excel-essentials  Excel Skills for Business: Essentials   \n",
       "1     /learn/excel-essentials  Excel Skills for Business: Essentials   \n",
       "2     /learn/excel-essentials  Excel Skills for Business: Essentials   \n",
       "3     /learn/excel-essentials  Excel Skills for Business: Essentials   \n",
       "4  /learn/what-is-datascience                 What is Data Science?    \n",
       "\n",
       "          partner_title                      instructor stars num_reviews  \\\n",
       "0  Macquarie University  Nicky Bull +2 more instructors   4.9        9440   \n",
       "1  Macquarie University  Nicky Bull +2 more instructors   4.9        9440   \n",
       "2  Macquarie University  Nicky Bull +2 more instructors   4.9        9440   \n",
       "3  Macquarie University  Nicky Bull +2 more instructors   4.9        9440   \n",
       "4                   IBM    Rav Ahuja +1 more instructor   4.7        8354   \n",
       "\n",
       "                                                                                                                                                                                                                                                                                                                                                     description  \\\n",
       "0  In this first course of the specialization Excel Skills for Business, you will learn the essentials of Microsoft Excel. Within six weeks, you will be able to expertly navigate the Excel user interface, perform basic calculations with formulas and functions, professionally format spreadsheets, and create visualizations of data through charts and...   \n",
       "1  In this first course of the specialization Excel Skills for Business, you will learn the essentials of Microsoft Excel. Within six weeks, you will be able to expertly navigate the Excel user interface, perform basic calculations with formulas and functions, professionally format spreadsheets, and create visualizations of data through charts and...   \n",
       "2  In this first course of the specialization Excel Skills for Business, you will learn the essentials of Microsoft Excel. Within six weeks, you will be able to expertly navigate the Excel user interface, perform basic calculations with formulas and functions, professionally format spreadsheets, and create visualizations of data through charts and...   \n",
       "3  In this first course of the specialization Excel Skills for Business, you will learn the essentials of Microsoft Excel. Within six weeks, you will be able to expertly navigate the Excel user interface, perform basic calculations with formulas and functions, professionally format spreadsheets, and create visualizations of data through charts and...   \n",
       "4  The art of uncovering the insights and trends in data has been around since ancient times. The ancient Egyptians used census data to increase efficiency in tax collection and they accurately predicted the flooding of the Nile river every year. Since then, people working in data science have carved out a unique and distinct field for the work th...   \n",
       "\n",
       "                                                                                                                                           outcome  \\\n",
       "0  [22%started a new career after completing these courses, 22%got a tangible career benefit from this course, 11%got a pay increase or promotion]   \n",
       "1  [22%started a new career after completing these courses, 22%got a tangible career benefit from this course, 11%got a pay increase or promotion]   \n",
       "2  [22%started a new career after completing these courses, 22%got a tangible career benefit from this course, 11%got a pay increase or promotion]   \n",
       "3  [22%started a new career after completing these courses, 22%got a tangible career benefit from this course, 11%got a pay increase or promotion]   \n",
       "4  [29%started a new career after completing these courses, 11%got a pay increase or promotion, 30%got a tangible career benefit from this course]   \n",
       "\n",
       "                                                                                                 highlight  \\\n",
       "0  [Course 1 of 4 in the, Beginner Level, Flexible deadlines, 100% online, English, Shareable Certificate]   \n",
       "1  [Course 1 of 4 in the, Beginner Level, Flexible deadlines, 100% online, English, Shareable Certificate]   \n",
       "2  [Course 1 of 4 in the, Beginner Level, Flexible deadlines, 100% online, English, Shareable Certificate]   \n",
       "3  [Course 1 of 4 in the, Beginner Level, Flexible deadlines, 100% online, English, Shareable Certificate]   \n",
       "4                                        [English, 100% online, Flexible deadlines, Shareable Certificate]   \n",
       "\n",
       "                         length       subject     level  \n",
       "0  Approx. 26 hours to complete  data-science  Beginner  \n",
       "1  Approx. 26 hours to complete      business  Beginner  \n",
       "2  Approx. 26 hours to complete  data-science  Beginner  \n",
       "3  Approx. 26 hours to complete      business  Beginner  \n",
       "4  Approx. 10 hours to complete  data-science  Beginner  "
      ]
     },
     "execution_count": 45,
     "metadata": {},
     "output_type": "execute_result"
    }
   ],
   "source": [
    "course_df.head()"
   ]
  },
  {
   "cell_type": "code",
   "execution_count": null,
   "id": "apart-boutique",
   "metadata": {},
   "outputs": [],
   "source": []
  },
  {
   "cell_type": "code",
   "execution_count": null,
   "id": "bulgarian-freedom",
   "metadata": {},
   "outputs": [],
   "source": []
  },
  {
   "cell_type": "code",
   "execution_count": 40,
   "id": "usual-merchandise",
   "metadata": {},
   "outputs": [],
   "source": [
    "# course_df.to_csv('./data/course_df.csv')"
   ]
  },
  {
   "cell_type": "code",
   "execution_count": null,
   "id": "consecutive-helen",
   "metadata": {},
   "outputs": [],
   "source": []
  },
  {
   "cell_type": "code",
   "execution_count": null,
   "id": "federal-knock",
   "metadata": {},
   "outputs": [],
   "source": []
  },
  {
   "cell_type": "code",
   "execution_count": null,
   "id": "intensive-train",
   "metadata": {},
   "outputs": [],
   "source": []
  },
  {
   "cell_type": "code",
   "execution_count": null,
   "id": "humanitarian-scholarship",
   "metadata": {},
   "outputs": [],
   "source": []
  },
  {
   "cell_type": "code",
   "execution_count": null,
   "id": "optimum-formula",
   "metadata": {},
   "outputs": [],
   "source": []
  },
  {
   "cell_type": "markdown",
   "id": "spanish-occasion",
   "metadata": {},
   "source": [
    "---\n",
    "### Scrape Reviews"
   ]
  },
  {
   "cell_type": "code",
   "execution_count": 41,
   "id": "revised-judge",
   "metadata": {},
   "outputs": [],
   "source": [
    "# sample URL: https://www.coursera.org/learn/data-analysis-with-python/reviews?star=1\n",
    "\n",
    "def pages_of_reviews(course_href='/learn/excel-essentials', rating=2):\n",
    "    url = f'https://www.coursera.org/{course_href}/reviews?star={rating}'\n",
    "    res = requests.get(url) \n",
    "    soup = BeautifulSoup(res.content)\n",
    "    last_page = int(soup.find('ul', {'class':'_l6n5rs cui-buttonList'})\n",
    "                    .find_all('li', {'style':'display:inline-block'})[-2].text)\n",
    "    return last_page"
   ]
  },
  {
   "cell_type": "code",
   "execution_count": 42,
   "id": "latest-audience",
   "metadata": {},
   "outputs": [],
   "source": [
    "# sample URL: https://www.coursera.org/learn/data-analysis-with-python/reviews?star=1&page=2\n",
    "\n",
    "def scrape_reviews_by_rating_page(course_href='/learn/excel-essentials', rating=2, review_page):\n",
    "    url = f'https://www.coursera.org/{course_href}/reviews?star={rating}&page={review_page}'\n",
    "    res = requests.get(url) \n",
    "    soup = BeautifulSoup(res.content)\n",
    "    list_of_reviews = [review.text for review in soup.find_all('div', {'class':'reviewText'})]\n",
    "    list_of_dates = [review.text for review in soup.find_all('div', {'class':'dateOfReview p-x-1s m-b-0 text-secondary font-xs'})]\n",
    "    dict_reviews = {\n",
    "        'review': list_of_reviews,\n",
    "        'date_of_review': list_of_dates,\n",
    "        'rating': rating,\n",
    "        'course_href': course_href}\n",
    "    df = pd.DataFrame(dict_reviews)\n",
    "    return df "
   ]
  },
  {
   "cell_type": "code",
   "execution_count": 43,
   "id": "eleven-office",
   "metadata": {},
   "outputs": [],
   "source": [
    "# sample URL: https://www.coursera.org/learn/data-analysis-with-python\n",
    "\n",
    "def scrape_reviews(course_href='/learn/excel-essentials'):\n",
    "    df_list = []\n",
    "    for rating in range(1,6):\n",
    "        pages = pages_of_reviews(course_href, rating)\n",
    "        for review_page in range(1, pages+1):\n",
    "            df = scrape_reviews_by_rating_page(course_href, rating, review_page)\n",
    "            df_list.append(df)\n",
    "    return pd.concat(df_list, ignore_index=True)"
   ]
  },
  {
   "cell_type": "code",
   "execution_count": 44,
   "id": "indian-breath",
   "metadata": {},
   "outputs": [],
   "source": [
    "testing = scrape_reviews('/learn/excel-essentials')\n"
   ]
  },
  {
   "cell_type": "code",
   "execution_count": 50,
   "id": "favorite-slovak",
   "metadata": {},
   "outputs": [],
   "source": [
    "reviews_ds_beginner = testing.merge(href_df, left_on='course_href', right_on='course_href')"
   ]
  },
  {
   "cell_type": "code",
   "execution_count": 51,
   "id": "married-submission",
   "metadata": {},
   "outputs": [],
   "source": [
    "reviews_ds_beginner.to_csv('./data/reviews_ds_beginner')"
   ]
  },
  {
   "cell_type": "code",
   "execution_count": null,
   "id": "southwest-cookie",
   "metadata": {},
   "outputs": [],
   "source": []
  },
  {
   "cell_type": "code",
   "execution_count": null,
   "id": "cordless-expression",
   "metadata": {},
   "outputs": [],
   "source": []
  }
 ],
 "metadata": {
  "kernelspec": {
   "display_name": "Python 3",
   "language": "python",
   "name": "python3"
  },
  "language_info": {
   "codemirror_mode": {
    "name": "ipython",
    "version": 3
   },
   "file_extension": ".py",
   "mimetype": "text/x-python",
   "name": "python",
   "nbconvert_exporter": "python",
   "pygments_lexer": "ipython3",
   "version": "3.8.5"
  }
 },
 "nbformat": 4,
 "nbformat_minor": 5
}
